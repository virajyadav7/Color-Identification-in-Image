{
 "cells": [
  {
   "cell_type": "markdown",
   "id": "ac57dbbb",
   "metadata": {},
   "source": [
    "# Importing Libraries  "
   ]
  },
  {
   "cell_type": "code",
   "execution_count": 1,
   "id": "54a88058",
   "metadata": {
    "scrolled": false
   },
   "outputs": [
    {
     "name": "stderr",
     "output_type": "stream",
     "text": [
      "WARNING: You are using pip version 21.1.3; however, version 21.2.4 is available.\n",
      "You should consider upgrading via the 'c:\\users\\hp\\appdata\\local\\programs\\python\\python39\\python.exe -m pip install --upgrade pip' command.\n"
     ]
    },
    {
     "name": "stdout",
     "output_type": "stream",
     "text": [
      "Requirement already satisfied: opencv-python in c:\\users\\hp\\appdata\\local\\programs\\python\\python39\\lib\\site-packages (4.5.3.56)\n",
      "Requirement already satisfied: numpy>=1.19.3 in c:\\users\\hp\\appdata\\local\\programs\\python\\python39\\lib\\site-packages (from opencv-python) (1.21.2)\n"
     ]
    }
   ],
   "source": [
    "!pip install opencv-python\n",
    "import cv2\n",
    "import pandas as pd"
   ]
  },
  {
   "cell_type": "markdown",
   "id": "b97b9fb1",
   "metadata": {},
   "source": [
    "# Loading image path"
   ]
  },
  {
   "cell_type": "code",
   "execution_count": 2,
   "id": "3cf64832",
   "metadata": {},
   "outputs": [],
   "source": [
    "img_path = 'colours.jpg'\n",
    "img = cv2.imread(img_path)"
   ]
  },
  {
   "cell_type": "code",
   "execution_count": 3,
   "id": "3de78524",
   "metadata": {},
   "outputs": [],
   "source": [
    "img = cv2.resize(img,(1200,700))"
   ]
  },
  {
   "cell_type": "markdown",
   "id": "f566eff6",
   "metadata": {},
   "source": [
    "# Reading csv file"
   ]
  },
  {
   "cell_type": "code",
   "execution_count": 4,
   "id": "ca7e2ca9",
   "metadata": {},
   "outputs": [],
   "source": [
    "index = [\"color\", \"color_name\", \"hex\", \"R\", \"G\", \"B\"]\n",
    "csv = pd.read_csv('colors.csv', names=index, header=None)"
   ]
  },
  {
   "cell_type": "markdown",
   "id": "b06c277a",
   "metadata": {},
   "source": [
    "# Declaring global variable"
   ]
  },
  {
   "cell_type": "code",
   "execution_count": 5,
   "id": "a883f7f4",
   "metadata": {},
   "outputs": [],
   "source": [
    "clicked = False\n",
    "r = g = b = x_pos = y_pos = 0"
   ]
  },
  {
   "cell_type": "markdown",
   "id": "47aac95a",
   "metadata": {},
   "source": [
    "# Function to calculate the minimum distance from all colors & get the most matching color"
   ]
  },
  {
   "cell_type": "code",
   "execution_count": 6,
   "id": "1d7a35aa",
   "metadata": {},
   "outputs": [],
   "source": [
    "def get_color_name(R, G, B):\n",
    "    minimum = 10000\n",
    "    for i in range(len(csv)):\n",
    "        d = abs(R - int(csv.loc[i, \"R\"])) + abs(G - int(csv.loc[i, \"G\"])) + abs(B - int(csv.loc[i, \"B\"]))\n",
    "        if d <= minimum:\n",
    "            minimum = d\n",
    "            cname = csv.loc[i, \"color_name\"]\n",
    "    return cname"
   ]
  },
  {
   "cell_type": "markdown",
   "id": "6b3b1968",
   "metadata": {},
   "source": [
    "# Function to get x , y coordinates of mouse double click."
   ]
  },
  {
   "cell_type": "code",
   "execution_count": 7,
   "id": "97424203",
   "metadata": {},
   "outputs": [],
   "source": [
    "def draw_function(event, x, y, flags, param):\n",
    "    if event == cv2.EVENT_LBUTTONDBLCLK:\n",
    "        global b, g, r, x_pos, y_pos, clicked\n",
    "        clicked = True\n",
    "        x_pos = x\n",
    "        y_pos = y\n",
    "        b, g, r = img[y, x]\n",
    "        b = int(b)\n",
    "        g = int(g)\n",
    "        r = int(r)"
   ]
  },
  {
   "cell_type": "markdown",
   "id": "0c8dcd50",
   "metadata": {},
   "source": [
    "# To create window"
   ]
  },
  {
   "cell_type": "code",
   "execution_count": 8,
   "id": "d7f44144",
   "metadata": {},
   "outputs": [],
   "source": [
    "cv2.namedWindow('image')\n",
    "cv2.setMouseCallback('image', draw_function)"
   ]
  },
  {
   "cell_type": "code",
   "execution_count": 9,
   "id": "6e660385",
   "metadata": {},
   "outputs": [],
   "source": [
    "while True:\n",
    "    cv2.imshow('image',img)\n",
    "    if clicked:\n",
    "        #cv2.rectangle(image,start point, end point, color,thickness)-1 fills entire rectangle\n",
    "        cv2.rectangle(img,(20,20),(600,60),(b,g,r),-1)\n",
    "        \n",
    "        #To create text string to display color name and RGB value\n",
    "        text = get_color_name(r,g,b)+ 'R='+str(r) + 'G='+str(g) + 'B='+str(b)\n",
    "        #cv2.putText(img,text,start,font(0-7),fontScale, color,thickness,lineType)\n",
    "        cv2.putText(img, text, (50,50), 2,0.8,(255,255,255),2,cv2.LINE_AA)\n",
    "\n",
    "        #For very light colors we will display text in black color....\n",
    "        if r+g+b >= 600:\n",
    "            cv2.putText(img, text, (50,50), 2,0.8,(0,0,0),2,cv2.LINE_AA)\n",
    "\n",
    "    if cv2.waitKey(20)& 0xFF == 27:\n",
    "        break\n",
    "\n",
    "cv2.destroyAllWindows()"
   ]
  }
 ],
 "metadata": {
  "kernelspec": {
   "display_name": "Python 3 (ipykernel)",
   "language": "python",
   "name": "python3"
  },
  "language_info": {
   "codemirror_mode": {
    "name": "ipython",
    "version": 3
   },
   "file_extension": ".py",
   "mimetype": "text/x-python",
   "name": "python",
   "nbconvert_exporter": "python",
   "pygments_lexer": "ipython3",
   "version": "3.9.6"
  }
 },
 "nbformat": 4,
 "nbformat_minor": 5
}
